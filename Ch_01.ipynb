{
  "nbformat": 4,
  "nbformat_minor": 0,
  "metadata": {
    "colab": {
      "provenance": [],
      "mount_file_id": "1R_Nd-zibOXX42_VDKvZShmsEX3PsFFrC",
      "authorship_tag": "ABX9TyOXCJoF8Hz+Qy++JBGk/ayl",
      "include_colab_link": true
    },
    "kernelspec": {
      "name": "python3",
      "display_name": "Python 3"
    },
    "language_info": {
      "name": "python"
    }
  },
  "cells": [
    {
      "cell_type": "markdown",
      "metadata": {
        "id": "view-in-github",
        "colab_type": "text"
      },
      "source": [
        "<a href=\"https://colab.research.google.com/github/Li220Fish/DL-CLASS/blob/main/Ch_01.ipynb\" target=\"_parent\"><img src=\"https://colab.research.google.com/assets/colab-badge.svg\" alt=\"Open In Colab\"/></a>"
      ]
    },
    {
      "cell_type": "code",
      "source": [
        "from google.colab import drive\n",
        "drive.mount('/content/drive')"
      ],
      "metadata": {
        "id": "CMR6YblXmzkv",
        "colab": {
          "base_uri": "https://localhost:8080/"
        },
        "outputId": "e61e47cf-543f-4354-eb03-d2cc2fa14028"
      },
      "execution_count": null,
      "outputs": [
        {
          "output_type": "stream",
          "name": "stdout",
          "text": [
            "Drive already mounted at /content/drive; to attempt to forcibly remount, call drive.mount(\"/content/drive\", force_remount=True).\n"
          ]
        }
      ]
    },
    {
      "cell_type": "code",
      "source": [
        "#執行程式，看資料型態為何\n",
        "print(type(34))\n",
        "print(type(3.4))\n",
        "print(type(\"34\"))\n",
        "print(type(34>0))\n"
      ],
      "metadata": {
        "colab": {
          "base_uri": "https://localhost:8080/"
        },
        "id": "H_9uEDLem7iF",
        "outputId": "89adc9b6-e943-45d8-f504-5d40b12a5104"
      },
      "execution_count": null,
      "outputs": [
        {
          "output_type": "stream",
          "name": "stdout",
          "text": [
            "<class 'int'>\n",
            "<class 'float'>\n",
            "<class 'str'>\n",
            "<class 'bool'>\n"
          ]
        }
      ]
    },
    {
      "cell_type": "code",
      "source": [
        "#輸出加法sum的結果\n",
        "sum = 90+56\n",
        "#..."
      ],
      "metadata": {
        "colab": {
          "base_uri": "https://localhost:8080/"
        },
        "id": "wQpuC9FPm7vK",
        "outputId": "1fb0c8be-5e80-4310-9376-9bbaf9d9e4f7"
      },
      "execution_count": null,
      "outputs": [
        {
          "output_type": "stream",
          "name": "stdout",
          "text": [
            "146\n"
          ]
        }
      ]
    },
    {
      "cell_type": "code",
      "source": [
        "#判斷條件練習，讓程式輸出 \"abc\"\n",
        "a = 100\n",
        "if #...:\n",
        "  print(\"abc\")\n",
        "else:\n",
        "  print(\"123\")"
      ],
      "metadata": {
        "id": "V7GE2Qlzo3z_",
        "colab": {
          "base_uri": "https://localhost:8080/"
        },
        "outputId": "fb7ca00c-5b35-4ee6-a323-96f481cc7e7a"
      },
      "execution_count": null,
      "outputs": [
        {
          "output_type": "stream",
          "name": "stdout",
          "text": [
            "123\n"
          ]
        }
      ]
    },
    {
      "cell_type": "code",
      "source": [
        "#迴圈練習，讓計算等差數列總和\n",
        "a = 10\n",
        "sum_0 = 0 ; sum_1 = 0\n",
        "for i #...:\n",
        "  sum_0 += i\n",
        "\n",
        "print(sum_0)\n",
        "\n",
        "while #...:\n",
        "  sum_1 +=1\n",
        "\n",
        "print(sum_1)\n"
      ],
      "metadata": {
        "id": "RueDTl6lo33Q",
        "colab": {
          "base_uri": "https://localhost:8080/"
        },
        "outputId": "72f28957-420d-45ed-b917-f00b81d30bbc"
      },
      "execution_count": null,
      "outputs": [
        {
          "output_type": "stream",
          "name": "stdout",
          "text": [
            "45\n",
            "10\n"
          ]
        }
      ]
    },
    {
      "cell_type": "code",
      "source": [
        "#綜合練習，做一個sub減法的函式，並用list儲存\n",
        "def add(a,b):\n",
        "  return a+b\n",
        "def sub #...:\n",
        "  return #...\n",
        "c = add(7,5)\n",
        "d = sub(7,5)\n",
        "a_list = [c,d]\n",
        "print(\"7 +　5　=\",c)\n",
        "print(\"7 -　5　=\",d)\n"
      ],
      "metadata": {
        "id": "1UTmdyWvqHtC",
        "colab": {
          "base_uri": "https://localhost:8080/"
        },
        "outputId": "0831b66e-0a29-4523-a22a-b3ca2d1b567c"
      },
      "execution_count": null,
      "outputs": [
        {
          "output_type": "stream",
          "name": "stdout",
          "text": [
            "7 +　5　= 12\n",
            "7 -　5　= 2\n"
          ]
        }
      ]
    },
    {
      "cell_type": "code",
      "source": [],
      "metadata": {
        "id": "5rBVfCEwqMq1"
      },
      "execution_count": null,
      "outputs": []
    }
  ]
}